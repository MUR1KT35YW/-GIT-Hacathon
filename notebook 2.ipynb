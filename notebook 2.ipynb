{
 "cells": [
  {
   "cell_type": "code",
   "execution_count": 1,
   "id": "e94268a0",
   "metadata": {},
   "outputs": [],
   "source": [
    "import numpy as np\n",
    "import pandas as pd"
   ]
  },
  {
   "cell_type": "code",
   "execution_count": 2,
   "id": "acb72ef1",
   "metadata": {},
   "outputs": [],
   "source": [
    "data=pd.read_csv(\"dataset.csv\")"
   ]
  },
  {
   "cell_type": "code",
   "execution_count": 10,
   "id": "3e68c0c3",
   "metadata": {},
   "outputs": [],
   "source": [
    "data.drop(['Symptom_6','Symptom_7','Symptom_8','Symptom_9','Symptom_10','Symptom_11','Symptom_12','Symptom_13','Symptom_14','Symptom_15','Symptom_16','Symptom_17'],axis=1,inplace=True)"
   ]
  },
  {
   "cell_type": "code",
   "execution_count": 11,
   "id": "33a09252",
   "metadata": {},
   "outputs": [
    {
     "data": {
      "text/html": [
       "<div>\n",
       "<style scoped>\n",
       "    .dataframe tbody tr th:only-of-type {\n",
       "        vertical-align: middle;\n",
       "    }\n",
       "\n",
       "    .dataframe tbody tr th {\n",
       "        vertical-align: top;\n",
       "    }\n",
       "\n",
       "    .dataframe thead th {\n",
       "        text-align: right;\n",
       "    }\n",
       "</style>\n",
       "<table border=\"1\" class=\"dataframe\">\n",
       "  <thead>\n",
       "    <tr style=\"text-align: right;\">\n",
       "      <th></th>\n",
       "      <th>Disease</th>\n",
       "      <th>Symptom_1</th>\n",
       "      <th>Symptom_2</th>\n",
       "      <th>Symptom_3</th>\n",
       "      <th>Symptom_4</th>\n",
       "      <th>Symptom_5</th>\n",
       "    </tr>\n",
       "  </thead>\n",
       "  <tbody>\n",
       "    <tr>\n",
       "      <th>0</th>\n",
       "      <td>Fungal infection</td>\n",
       "      <td>itching</td>\n",
       "      <td>skin_rash</td>\n",
       "      <td>nodal_skin_eruptions</td>\n",
       "      <td>dischromic _patches</td>\n",
       "      <td>NaN</td>\n",
       "    </tr>\n",
       "    <tr>\n",
       "      <th>1</th>\n",
       "      <td>Fungal infection</td>\n",
       "      <td>skin_rash</td>\n",
       "      <td>nodal_skin_eruptions</td>\n",
       "      <td>dischromic _patches</td>\n",
       "      <td>NaN</td>\n",
       "      <td>NaN</td>\n",
       "    </tr>\n",
       "    <tr>\n",
       "      <th>2</th>\n",
       "      <td>Fungal infection</td>\n",
       "      <td>itching</td>\n",
       "      <td>nodal_skin_eruptions</td>\n",
       "      <td>dischromic _patches</td>\n",
       "      <td>NaN</td>\n",
       "      <td>NaN</td>\n",
       "    </tr>\n",
       "    <tr>\n",
       "      <th>3</th>\n",
       "      <td>Fungal infection</td>\n",
       "      <td>itching</td>\n",
       "      <td>skin_rash</td>\n",
       "      <td>dischromic _patches</td>\n",
       "      <td>NaN</td>\n",
       "      <td>NaN</td>\n",
       "    </tr>\n",
       "    <tr>\n",
       "      <th>4</th>\n",
       "      <td>Fungal infection</td>\n",
       "      <td>itching</td>\n",
       "      <td>skin_rash</td>\n",
       "      <td>nodal_skin_eruptions</td>\n",
       "      <td>NaN</td>\n",
       "      <td>NaN</td>\n",
       "    </tr>\n",
       "  </tbody>\n",
       "</table>\n",
       "</div>"
      ],
      "text/plain": [
       "            Disease   Symptom_1              Symptom_2              Symptom_3  \\\n",
       "0  Fungal infection     itching              skin_rash   nodal_skin_eruptions   \n",
       "1  Fungal infection   skin_rash   nodal_skin_eruptions    dischromic _patches   \n",
       "2  Fungal infection     itching   nodal_skin_eruptions    dischromic _patches   \n",
       "3  Fungal infection     itching              skin_rash    dischromic _patches   \n",
       "4  Fungal infection     itching              skin_rash   nodal_skin_eruptions   \n",
       "\n",
       "              Symptom_4 Symptom_5  \n",
       "0   dischromic _patches       NaN  \n",
       "1                   NaN       NaN  \n",
       "2                   NaN       NaN  \n",
       "3                   NaN       NaN  \n",
       "4                   NaN       NaN  "
      ]
     },
     "execution_count": 11,
     "metadata": {},
     "output_type": "execute_result"
    }
   ],
   "source": [
    "data.head()"
   ]
  },
  {
   "cell_type": "code",
   "execution_count": 44,
   "id": "22ad8d53",
   "metadata": {},
   "outputs": [],
   "source": [
    "data_ser=pd.read_csv(\"Symptom-severity.csv\")"
   ]
  },
  {
   "cell_type": "code",
   "execution_count": 21,
   "id": "c489469b",
   "metadata": {},
   "outputs": [
    {
     "name": "stderr",
     "output_type": "stream",
     "text": [
      "C:\\Users\\Prince\\AppData\\Local\\Temp/ipykernel_9784/1348361067.py:1: UserWarning: DataFrame columns are not unique, some columns will be omitted.\n",
      "  data_dict = data_ser.set_index('Symptom').T.to_dict()\n"
     ]
    }
   ],
   "source": [
    "data_dict = data_ser.set_index('Symptom').T.to_dict()"
   ]
  },
  {
   "cell_type": "code",
   "execution_count": 22,
   "id": "f05c751e",
   "metadata": {},
   "outputs": [],
   "source": [
    "def remove_space_between_word(dataset):\n",
    "    for col in dataset.columns:\n",
    "        for i in range(len(dataset[col])):\n",
    "            if (type(dataset[col][i]) == str ):\n",
    "                dataset[col][i] = dataset[col][i].strip()\n",
    "                dataset[col][i] = dataset[col][i].replace(\" \", \"_\")\n",
    "    return data"
   ]
  },
  {
   "cell_type": "code",
   "execution_count": 23,
   "id": "ecc2d9f6",
   "metadata": {},
   "outputs": [
    {
     "data": {
      "text/html": [
       "<div>\n",
       "<style scoped>\n",
       "    .dataframe tbody tr th:only-of-type {\n",
       "        vertical-align: middle;\n",
       "    }\n",
       "\n",
       "    .dataframe tbody tr th {\n",
       "        vertical-align: top;\n",
       "    }\n",
       "\n",
       "    .dataframe thead th {\n",
       "        text-align: right;\n",
       "    }\n",
       "</style>\n",
       "<table border=\"1\" class=\"dataframe\">\n",
       "  <thead>\n",
       "    <tr style=\"text-align: right;\">\n",
       "      <th></th>\n",
       "      <th>Disease</th>\n",
       "      <th>Symptom_1</th>\n",
       "      <th>Symptom_2</th>\n",
       "      <th>Symptom_3</th>\n",
       "      <th>Symptom_4</th>\n",
       "      <th>Symptom_5</th>\n",
       "    </tr>\n",
       "  </thead>\n",
       "  <tbody>\n",
       "    <tr>\n",
       "      <th>0</th>\n",
       "      <td>Fungal_infection</td>\n",
       "      <td>itching</td>\n",
       "      <td>skin_rash</td>\n",
       "      <td>nodal_skin_eruptions</td>\n",
       "      <td>dischromic__patches</td>\n",
       "      <td>NaN</td>\n",
       "    </tr>\n",
       "    <tr>\n",
       "      <th>1</th>\n",
       "      <td>Fungal_infection</td>\n",
       "      <td>skin_rash</td>\n",
       "      <td>nodal_skin_eruptions</td>\n",
       "      <td>dischromic__patches</td>\n",
       "      <td>NaN</td>\n",
       "      <td>NaN</td>\n",
       "    </tr>\n",
       "    <tr>\n",
       "      <th>2</th>\n",
       "      <td>Fungal_infection</td>\n",
       "      <td>itching</td>\n",
       "      <td>nodal_skin_eruptions</td>\n",
       "      <td>dischromic__patches</td>\n",
       "      <td>NaN</td>\n",
       "      <td>NaN</td>\n",
       "    </tr>\n",
       "    <tr>\n",
       "      <th>3</th>\n",
       "      <td>Fungal_infection</td>\n",
       "      <td>itching</td>\n",
       "      <td>skin_rash</td>\n",
       "      <td>dischromic__patches</td>\n",
       "      <td>NaN</td>\n",
       "      <td>NaN</td>\n",
       "    </tr>\n",
       "    <tr>\n",
       "      <th>4</th>\n",
       "      <td>Fungal_infection</td>\n",
       "      <td>itching</td>\n",
       "      <td>skin_rash</td>\n",
       "      <td>nodal_skin_eruptions</td>\n",
       "      <td>NaN</td>\n",
       "      <td>NaN</td>\n",
       "    </tr>\n",
       "  </tbody>\n",
       "</table>\n",
       "</div>"
      ],
      "text/plain": [
       "            Disease  Symptom_1             Symptom_2             Symptom_3  \\\n",
       "0  Fungal_infection    itching             skin_rash  nodal_skin_eruptions   \n",
       "1  Fungal_infection  skin_rash  nodal_skin_eruptions   dischromic__patches   \n",
       "2  Fungal_infection    itching  nodal_skin_eruptions   dischromic__patches   \n",
       "3  Fungal_infection    itching             skin_rash   dischromic__patches   \n",
       "4  Fungal_infection    itching             skin_rash  nodal_skin_eruptions   \n",
       "\n",
       "             Symptom_4 Symptom_5  \n",
       "0  dischromic__patches       NaN  \n",
       "1                  NaN       NaN  \n",
       "2                  NaN       NaN  \n",
       "3                  NaN       NaN  \n",
       "4                  NaN       NaN  "
      ]
     },
     "execution_count": 23,
     "metadata": {},
     "output_type": "execute_result"
    }
   ],
   "source": [
    "new_df = remove_space_between_word(data)\n",
    "new_df.head()"
   ]
  },
  {
   "cell_type": "code",
   "execution_count": 24,
   "id": "96e785a5",
   "metadata": {},
   "outputs": [],
   "source": [
    "def encode_data(dataset , data_dict_weigth):\n",
    "    cols = dataset.columns\n",
    "    for columnName in cols:\n",
    "        for i in range(len(dataset[columnName])):\n",
    "            try:\n",
    "           # print(data_dict[data2[columnName][i]][\"weight\"])\n",
    "                dataset[columnName][i] = data_dict[dataset[columnName][i]][\"weight\"]\n",
    "            except:\n",
    "                pass\n",
    "    dataset = dataset.fillna(0) # put empty cell to 0\n",
    "    dataset = dataset.replace(\"foul_smell_of_urine\" , 5)\n",
    "    dataset = dataset.replace(\"dischromic__patches\" , 6)\n",
    "    dataset = dataset.replace(\"spotting__urination\" , 6)\n",
    "    return dataset"
   ]
  },
  {
   "cell_type": "code",
   "execution_count": 25,
   "id": "51f94b14",
   "metadata": {},
   "outputs": [
    {
     "data": {
      "text/html": [
       "<div>\n",
       "<style scoped>\n",
       "    .dataframe tbody tr th:only-of-type {\n",
       "        vertical-align: middle;\n",
       "    }\n",
       "\n",
       "    .dataframe tbody tr th {\n",
       "        vertical-align: top;\n",
       "    }\n",
       "\n",
       "    .dataframe thead th {\n",
       "        text-align: right;\n",
       "    }\n",
       "</style>\n",
       "<table border=\"1\" class=\"dataframe\">\n",
       "  <thead>\n",
       "    <tr style=\"text-align: right;\">\n",
       "      <th></th>\n",
       "      <th>Disease</th>\n",
       "      <th>Symptom_1</th>\n",
       "      <th>Symptom_2</th>\n",
       "      <th>Symptom_3</th>\n",
       "      <th>Symptom_4</th>\n",
       "      <th>Symptom_5</th>\n",
       "    </tr>\n",
       "  </thead>\n",
       "  <tbody>\n",
       "    <tr>\n",
       "      <th>0</th>\n",
       "      <td>Fungal_infection</td>\n",
       "      <td>1</td>\n",
       "      <td>3</td>\n",
       "      <td>4</td>\n",
       "      <td>6</td>\n",
       "      <td>0</td>\n",
       "    </tr>\n",
       "    <tr>\n",
       "      <th>1</th>\n",
       "      <td>Fungal_infection</td>\n",
       "      <td>3</td>\n",
       "      <td>4</td>\n",
       "      <td>6</td>\n",
       "      <td>0</td>\n",
       "      <td>0</td>\n",
       "    </tr>\n",
       "    <tr>\n",
       "      <th>2</th>\n",
       "      <td>Fungal_infection</td>\n",
       "      <td>1</td>\n",
       "      <td>4</td>\n",
       "      <td>6</td>\n",
       "      <td>0</td>\n",
       "      <td>0</td>\n",
       "    </tr>\n",
       "    <tr>\n",
       "      <th>3</th>\n",
       "      <td>Fungal_infection</td>\n",
       "      <td>1</td>\n",
       "      <td>3</td>\n",
       "      <td>6</td>\n",
       "      <td>0</td>\n",
       "      <td>0</td>\n",
       "    </tr>\n",
       "    <tr>\n",
       "      <th>4</th>\n",
       "      <td>Fungal_infection</td>\n",
       "      <td>1</td>\n",
       "      <td>3</td>\n",
       "      <td>4</td>\n",
       "      <td>0</td>\n",
       "      <td>0</td>\n",
       "    </tr>\n",
       "  </tbody>\n",
       "</table>\n",
       "</div>"
      ],
      "text/plain": [
       "            Disease  Symptom_1  Symptom_2  Symptom_3  Symptom_4  Symptom_5\n",
       "0  Fungal_infection          1          3          4          6          0\n",
       "1  Fungal_infection          3          4          6          0          0\n",
       "2  Fungal_infection          1          4          6          0          0\n",
       "3  Fungal_infection          1          3          6          0          0\n",
       "4  Fungal_infection          1          3          4          0          0"
      ]
     },
     "execution_count": 25,
     "metadata": {},
     "output_type": "execute_result"
    }
   ],
   "source": [
    "df = encode_data(new_df , data_dict)\n",
    "df.head()"
   ]
  },
  {
   "cell_type": "code",
   "execution_count": 26,
   "id": "5081b0b2",
   "metadata": {},
   "outputs": [],
   "source": [
    "df_data = df.drop('Disease' , axis =1)\n",
    "label = data[\"Disease\"]"
   ]
  },
  {
   "cell_type": "code",
   "execution_count": 27,
   "id": "774f1c37",
   "metadata": {},
   "outputs": [
    {
     "name": "stdout",
     "output_type": "stream",
     "text": [
      "RandomForestClassifier()\n",
      "                                         precision    recall  f1-score   support\n",
      "\n",
      "(vertigo)_Paroymsal__Positional_Vertigo       0.91      1.00      0.95        42\n",
      "                                   AIDS       1.00      1.00      1.00        38\n",
      "                                   Acne       1.00      1.00      1.00        34\n",
      "                    Alcoholic_hepatitis       1.00      1.00      1.00        30\n",
      "                                Allergy       0.87      1.00      0.93        34\n",
      "                              Arthritis       1.00      1.00      1.00        31\n",
      "                       Bronchial_Asthma       1.00      1.00      1.00        35\n",
      "                   Cervical_spondylosis       1.00      0.93      0.96        43\n",
      "                            Chicken_pox       1.00      1.00      1.00        29\n",
      "                    Chronic_cholestasis       1.00      0.94      0.97        34\n",
      "                            Common_Cold       1.00      0.94      0.97        34\n",
      "                                 Dengue       1.00      1.00      1.00        38\n",
      "                               Diabetes       1.00      1.00      1.00        40\n",
      "           Dimorphic_hemmorhoids(piles)       1.00      1.00      1.00        37\n",
      "                          Drug_Reaction       1.00      1.00      1.00        31\n",
      "                       Fungal_infection       0.91      1.00      0.95        41\n",
      "                                   GERD       0.91      1.00      0.95        31\n",
      "                        Gastroenteritis       1.00      0.84      0.92        32\n",
      "                           Heart_attack       1.00      1.00      1.00        47\n",
      "                            Hepatitis_B       1.00      1.00      1.00        33\n",
      "                            Hepatitis_C       1.00      0.92      0.96        39\n",
      "                            Hepatitis_D       0.79      0.26      0.39        42\n",
      "                            Hepatitis_E       1.00      0.17      0.29        30\n",
      "                           Hypertension       0.89      1.00      0.94        40\n",
      "                        Hyperthyroidism       1.00      1.00      1.00        27\n",
      "                           Hypoglycemia       1.00      1.00      1.00        33\n",
      "                         Hypothyroidism       1.00      1.00      1.00        41\n",
      "                               Impetigo       1.00      0.94      0.97        36\n",
      "                               Jaundice       1.00      1.00      1.00        37\n",
      "                                Malaria       1.00      1.00      1.00        31\n",
      "                               Migraine       0.83      0.95      0.88        40\n",
      "                        Osteoarthristis       1.00      1.00      1.00        30\n",
      "           Paralysis_(brain_hemorrhage)       1.00      0.90      0.95        39\n",
      "                    Peptic_ulcer_diseae       1.00      1.00      1.00        38\n",
      "                              Pneumonia       0.95      1.00      0.97        36\n",
      "                              Psoriasis       1.00      1.00      1.00        38\n",
      "                           Tuberculosis       0.47      1.00      0.64        28\n",
      "                                Typhoid       0.60      1.00      0.75        33\n",
      "                Urinary_tract_infection       1.00      1.00      1.00        40\n",
      "                         Varicose_veins       1.00      1.00      1.00        39\n",
      "                            hepatitis_A       0.94      0.76      0.84        45\n",
      "\n",
      "                               accuracy                           0.94      1476\n",
      "                              macro avg       0.95      0.94      0.93      1476\n",
      "                           weighted avg       0.95      0.94      0.93      1476\n",
      "\n",
      "F1-score% = 93.15018672466189 | Accuracy% = 93.90243902439023\n"
     ]
    }
   ],
   "source": [
    "from sklearn.model_selection import train_test_split\n",
    "from sklearn.ensemble import RandomForestClassifier\n",
    "from sklearn.metrics import classification_report,f1_score,accuracy_score\n",
    "\n",
    "x_train, x_test, y_train, y_test = train_test_split(df_data, label, shuffle=True, train_size = 0.70)\n",
    "model = RandomForestClassifier()\n",
    "model.fit(x_train, y_train)\n",
    "result = model.predict(x_test)\n",
    "print(model)\n",
    "print(classification_report(y_true=y_test, y_pred=result))\n",
    "print('F1-score% =', f1_score(y_test, result, average='macro')*100, '|', 'Accuracy% =', accuracy_score(y_test, result)*100)"
   ]
  },
  {
   "cell_type": "code",
   "execution_count": 47,
   "id": "79d28101",
   "metadata": {},
   "outputs": [
    {
     "data": {
      "text/plain": [
       "array(['Fungal_infection'], dtype=object)"
      ]
     },
     "execution_count": 47,
     "metadata": {},
     "output_type": "execute_result"
    }
   ],
   "source": [
    "model.predict([[1,3,4,6,0]])"
   ]
  },
  {
   "cell_type": "code",
   "execution_count": 36,
   "id": "5624712b",
   "metadata": {},
   "outputs": [],
   "source": [
    "import pickle\n",
    "file=open('model_1.pkl','wb')"
   ]
  },
  {
   "cell_type": "code",
   "execution_count": 37,
   "id": "aa4969e4",
   "metadata": {},
   "outputs": [],
   "source": [
    "pickle.dump(model,file)"
   ]
  },
  {
   "cell_type": "code",
   "execution_count": 46,
   "id": "92ccd41e",
   "metadata": {},
   "outputs": [
    {
     "data": {
      "text/html": [
       "<div>\n",
       "<style scoped>\n",
       "    .dataframe tbody tr th:only-of-type {\n",
       "        vertical-align: middle;\n",
       "    }\n",
       "\n",
       "    .dataframe tbody tr th {\n",
       "        vertical-align: top;\n",
       "    }\n",
       "\n",
       "    .dataframe thead th {\n",
       "        text-align: right;\n",
       "    }\n",
       "</style>\n",
       "<table border=\"1\" class=\"dataframe\">\n",
       "  <thead>\n",
       "    <tr style=\"text-align: right;\">\n",
       "      <th></th>\n",
       "      <th>Symptom</th>\n",
       "      <th>weight</th>\n",
       "    </tr>\n",
       "  </thead>\n",
       "  <tbody>\n",
       "    <tr>\n",
       "      <th>0</th>\n",
       "      <td>itching</td>\n",
       "      <td>1</td>\n",
       "    </tr>\n",
       "    <tr>\n",
       "      <th>1</th>\n",
       "      <td>skin_rash</td>\n",
       "      <td>3</td>\n",
       "    </tr>\n",
       "    <tr>\n",
       "      <th>2</th>\n",
       "      <td>nodal_skin_eruptions</td>\n",
       "      <td>4</td>\n",
       "    </tr>\n",
       "    <tr>\n",
       "      <th>3</th>\n",
       "      <td>continuous_sneezing</td>\n",
       "      <td>4</td>\n",
       "    </tr>\n",
       "    <tr>\n",
       "      <th>4</th>\n",
       "      <td>shivering</td>\n",
       "      <td>5</td>\n",
       "    </tr>\n",
       "  </tbody>\n",
       "</table>\n",
       "</div>"
      ],
      "text/plain": [
       "                Symptom  weight\n",
       "0               itching       1\n",
       "1             skin_rash       3\n",
       "2  nodal_skin_eruptions       4\n",
       "3   continuous_sneezing       4\n",
       "4             shivering       5"
      ]
     },
     "execution_count": 46,
     "metadata": {},
     "output_type": "execute_result"
    }
   ],
   "source": [
    "data_ser.head()"
   ]
  },
  {
   "cell_type": "code",
   "execution_count": 45,
   "id": "8c1b429a",
   "metadata": {},
   "outputs": [
    {
     "data": {
      "text/plain": [
       "0      1\n",
       "1      3\n",
       "2      4\n",
       "3      4\n",
       "4      5\n",
       "      ..\n",
       "128    2\n",
       "129    4\n",
       "130    2\n",
       "131    3\n",
       "132    5\n",
       "Name: weight, Length: 133, dtype: int64"
      ]
     },
     "execution_count": 45,
     "metadata": {},
     "output_type": "execute_result"
    }
   ],
   "source": [
    "data_ser['weight']"
   ]
  },
  {
   "cell_type": "code",
   "execution_count": null,
   "id": "d123cadd",
   "metadata": {},
   "outputs": [],
   "source": []
  }
 ],
 "metadata": {
  "kernelspec": {
   "display_name": "Python 3 (ipykernel)",
   "language": "python",
   "name": "python3"
  },
  "language_info": {
   "codemirror_mode": {
    "name": "ipython",
    "version": 3
   },
   "file_extension": ".py",
   "mimetype": "text/x-python",
   "name": "python",
   "nbconvert_exporter": "python",
   "pygments_lexer": "ipython3",
   "version": "3.9.7"
  }
 },
 "nbformat": 4,
 "nbformat_minor": 5
}
